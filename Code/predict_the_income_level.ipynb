{
  "nbformat": 4,
  "nbformat_minor": 0,
  "metadata": {
    "colab": {
      "provenance": []
    },
    "kernelspec": {
      "name": "python3",
      "display_name": "Python 3"
    },
    "language_info": {
      "name": "python"
    }
  },
  "cells": [
    {
      "cell_type": "markdown",
      "source": [
        "### Import the libraries"
      ],
      "metadata": {
        "id": "OwcNokwNeC20"
      }
    },
    {
      "cell_type": "code",
      "source": [
        "import pandas as pd\n",
        "import seaborn as sns\n",
        "import matplotlib.pyplot as plt\n",
        "from sklearn.model_selection import train_test_split\n",
        "from sklearn.metrics import accuracy_score\n",
        "from sklearn.naive_bayes import GaussianNB\n",
        "from sklearn.tree import DecisionTreeClassifier"
      ],
      "metadata": {
        "id": "1tHxJUOwd7E_"
      },
      "execution_count": null,
      "outputs": []
    },
    {
      "cell_type": "markdown",
      "source": [
        "### Read the data"
      ],
      "metadata": {
        "id": "na9iPVB4eUxe"
      }
    },
    {
      "cell_type": "code",
      "source": [
        "from google.colab import drive\n",
        "drive.mount('/content/drive')"
      ],
      "metadata": {
        "colab": {
          "base_uri": "https://localhost:8080/"
        },
        "id": "hhXakwSTd7Sj",
        "outputId": "438e5263-f8e7-43fe-aa2e-748d87d7393d"
      },
      "execution_count": null,
      "outputs": [
        {
          "output_type": "stream",
          "name": "stdout",
          "text": [
            "Drive already mounted at /content/drive; to attempt to forcibly remount, call drive.mount(\"/content/drive\", force_remount=True).\n"
          ]
        }
      ]
    },
    {
      "cell_type": "code",
      "source": [
        "df_adult = pd.read_csv('/content/drive/My Drive/Projects_shai/Projects data/adult.csv')"
      ],
      "metadata": {
        "id": "hOQwnlN5d7ou"
      },
      "execution_count": null,
      "outputs": []
    },
    {
      "cell_type": "code",
      "source": [
        "df_adult.shape"
      ],
      "metadata": {
        "colab": {
          "base_uri": "https://localhost:8080/"
        },
        "id": "jeZTpufxd7xs",
        "outputId": "466c5353-df9e-4fea-b688-09641766cc71"
      },
      "execution_count": null,
      "outputs": [
        {
          "output_type": "execute_result",
          "data": {
            "text/plain": [
              "(48842, 15)"
            ]
          },
          "metadata": {},
          "execution_count": 4
        }
      ]
    },
    {
      "cell_type": "code",
      "source": [
        "df_adult.head().style.hide()"
      ],
      "metadata": {
        "colab": {
          "base_uri": "https://localhost:8080/",
          "height": 310
        },
        "id": "71P0k2EZgGkU",
        "outputId": "e615ce0f-37dd-4edf-f5ec-f89e4a5916d5"
      },
      "execution_count": null,
      "outputs": [
        {
          "output_type": "execute_result",
          "data": {
            "text/plain": [
              "<pandas.io.formats.style.Styler at 0x786796f6ecb0>"
            ],
            "text/html": [
              "<style type=\"text/css\">\n",
              "</style>\n",
              "<table id=\"T_8bbbc\" class=\"dataframe\">\n",
              "  <thead>\n",
              "    <tr>\n",
              "      <th id=\"T_8bbbc_level0_col0\" class=\"col_heading level0 col0\" >age</th>\n",
              "      <th id=\"T_8bbbc_level0_col1\" class=\"col_heading level0 col1\" >workclass</th>\n",
              "      <th id=\"T_8bbbc_level0_col2\" class=\"col_heading level0 col2\" >fnlwgt</th>\n",
              "      <th id=\"T_8bbbc_level0_col3\" class=\"col_heading level0 col3\" >education</th>\n",
              "      <th id=\"T_8bbbc_level0_col4\" class=\"col_heading level0 col4\" >education-num</th>\n",
              "      <th id=\"T_8bbbc_level0_col5\" class=\"col_heading level0 col5\" >marital-status</th>\n",
              "      <th id=\"T_8bbbc_level0_col6\" class=\"col_heading level0 col6\" >occupation</th>\n",
              "      <th id=\"T_8bbbc_level0_col7\" class=\"col_heading level0 col7\" >relationship</th>\n",
              "      <th id=\"T_8bbbc_level0_col8\" class=\"col_heading level0 col8\" >race</th>\n",
              "      <th id=\"T_8bbbc_level0_col9\" class=\"col_heading level0 col9\" >sex</th>\n",
              "      <th id=\"T_8bbbc_level0_col10\" class=\"col_heading level0 col10\" >capital-gain</th>\n",
              "      <th id=\"T_8bbbc_level0_col11\" class=\"col_heading level0 col11\" >capital-loss</th>\n",
              "      <th id=\"T_8bbbc_level0_col12\" class=\"col_heading level0 col12\" >hours-per-week</th>\n",
              "      <th id=\"T_8bbbc_level0_col13\" class=\"col_heading level0 col13\" >native-country</th>\n",
              "      <th id=\"T_8bbbc_level0_col14\" class=\"col_heading level0 col14\" >income</th>\n",
              "    </tr>\n",
              "  </thead>\n",
              "  <tbody>\n",
              "    <tr>\n",
              "      <td id=\"T_8bbbc_row0_col0\" class=\"data row0 col0\" >39</td>\n",
              "      <td id=\"T_8bbbc_row0_col1\" class=\"data row0 col1\" >State-gov</td>\n",
              "      <td id=\"T_8bbbc_row0_col2\" class=\"data row0 col2\" >77516</td>\n",
              "      <td id=\"T_8bbbc_row0_col3\" class=\"data row0 col3\" >Bachelors</td>\n",
              "      <td id=\"T_8bbbc_row0_col4\" class=\"data row0 col4\" >13</td>\n",
              "      <td id=\"T_8bbbc_row0_col5\" class=\"data row0 col5\" >Never-married</td>\n",
              "      <td id=\"T_8bbbc_row0_col6\" class=\"data row0 col6\" >Adm-clerical</td>\n",
              "      <td id=\"T_8bbbc_row0_col7\" class=\"data row0 col7\" >Not-in-family</td>\n",
              "      <td id=\"T_8bbbc_row0_col8\" class=\"data row0 col8\" >White</td>\n",
              "      <td id=\"T_8bbbc_row0_col9\" class=\"data row0 col9\" >Male</td>\n",
              "      <td id=\"T_8bbbc_row0_col10\" class=\"data row0 col10\" >2174</td>\n",
              "      <td id=\"T_8bbbc_row0_col11\" class=\"data row0 col11\" >0</td>\n",
              "      <td id=\"T_8bbbc_row0_col12\" class=\"data row0 col12\" >40</td>\n",
              "      <td id=\"T_8bbbc_row0_col13\" class=\"data row0 col13\" >United-States</td>\n",
              "      <td id=\"T_8bbbc_row0_col14\" class=\"data row0 col14\" ><=50K</td>\n",
              "    </tr>\n",
              "    <tr>\n",
              "      <td id=\"T_8bbbc_row1_col0\" class=\"data row1 col0\" >50</td>\n",
              "      <td id=\"T_8bbbc_row1_col1\" class=\"data row1 col1\" >Self-emp-not-inc</td>\n",
              "      <td id=\"T_8bbbc_row1_col2\" class=\"data row1 col2\" >83311</td>\n",
              "      <td id=\"T_8bbbc_row1_col3\" class=\"data row1 col3\" >Bachelors</td>\n",
              "      <td id=\"T_8bbbc_row1_col4\" class=\"data row1 col4\" >13</td>\n",
              "      <td id=\"T_8bbbc_row1_col5\" class=\"data row1 col5\" >Married-civ-spouse</td>\n",
              "      <td id=\"T_8bbbc_row1_col6\" class=\"data row1 col6\" >Exec-managerial</td>\n",
              "      <td id=\"T_8bbbc_row1_col7\" class=\"data row1 col7\" >Husband</td>\n",
              "      <td id=\"T_8bbbc_row1_col8\" class=\"data row1 col8\" >White</td>\n",
              "      <td id=\"T_8bbbc_row1_col9\" class=\"data row1 col9\" >Male</td>\n",
              "      <td id=\"T_8bbbc_row1_col10\" class=\"data row1 col10\" >0</td>\n",
              "      <td id=\"T_8bbbc_row1_col11\" class=\"data row1 col11\" >0</td>\n",
              "      <td id=\"T_8bbbc_row1_col12\" class=\"data row1 col12\" >13</td>\n",
              "      <td id=\"T_8bbbc_row1_col13\" class=\"data row1 col13\" >United-States</td>\n",
              "      <td id=\"T_8bbbc_row1_col14\" class=\"data row1 col14\" ><=50K</td>\n",
              "    </tr>\n",
              "    <tr>\n",
              "      <td id=\"T_8bbbc_row2_col0\" class=\"data row2 col0\" >38</td>\n",
              "      <td id=\"T_8bbbc_row2_col1\" class=\"data row2 col1\" >Private</td>\n",
              "      <td id=\"T_8bbbc_row2_col2\" class=\"data row2 col2\" >215646</td>\n",
              "      <td id=\"T_8bbbc_row2_col3\" class=\"data row2 col3\" >HS-grad</td>\n",
              "      <td id=\"T_8bbbc_row2_col4\" class=\"data row2 col4\" >9</td>\n",
              "      <td id=\"T_8bbbc_row2_col5\" class=\"data row2 col5\" >Divorced</td>\n",
              "      <td id=\"T_8bbbc_row2_col6\" class=\"data row2 col6\" >Handlers-cleaners</td>\n",
              "      <td id=\"T_8bbbc_row2_col7\" class=\"data row2 col7\" >Not-in-family</td>\n",
              "      <td id=\"T_8bbbc_row2_col8\" class=\"data row2 col8\" >White</td>\n",
              "      <td id=\"T_8bbbc_row2_col9\" class=\"data row2 col9\" >Male</td>\n",
              "      <td id=\"T_8bbbc_row2_col10\" class=\"data row2 col10\" >0</td>\n",
              "      <td id=\"T_8bbbc_row2_col11\" class=\"data row2 col11\" >0</td>\n",
              "      <td id=\"T_8bbbc_row2_col12\" class=\"data row2 col12\" >40</td>\n",
              "      <td id=\"T_8bbbc_row2_col13\" class=\"data row2 col13\" >United-States</td>\n",
              "      <td id=\"T_8bbbc_row2_col14\" class=\"data row2 col14\" ><=50K</td>\n",
              "    </tr>\n",
              "    <tr>\n",
              "      <td id=\"T_8bbbc_row3_col0\" class=\"data row3 col0\" >53</td>\n",
              "      <td id=\"T_8bbbc_row3_col1\" class=\"data row3 col1\" >Private</td>\n",
              "      <td id=\"T_8bbbc_row3_col2\" class=\"data row3 col2\" >234721</td>\n",
              "      <td id=\"T_8bbbc_row3_col3\" class=\"data row3 col3\" >11th</td>\n",
              "      <td id=\"T_8bbbc_row3_col4\" class=\"data row3 col4\" >7</td>\n",
              "      <td id=\"T_8bbbc_row3_col5\" class=\"data row3 col5\" >Married-civ-spouse</td>\n",
              "      <td id=\"T_8bbbc_row3_col6\" class=\"data row3 col6\" >Handlers-cleaners</td>\n",
              "      <td id=\"T_8bbbc_row3_col7\" class=\"data row3 col7\" >Husband</td>\n",
              "      <td id=\"T_8bbbc_row3_col8\" class=\"data row3 col8\" >Black</td>\n",
              "      <td id=\"T_8bbbc_row3_col9\" class=\"data row3 col9\" >Male</td>\n",
              "      <td id=\"T_8bbbc_row3_col10\" class=\"data row3 col10\" >0</td>\n",
              "      <td id=\"T_8bbbc_row3_col11\" class=\"data row3 col11\" >0</td>\n",
              "      <td id=\"T_8bbbc_row3_col12\" class=\"data row3 col12\" >40</td>\n",
              "      <td id=\"T_8bbbc_row3_col13\" class=\"data row3 col13\" >United-States</td>\n",
              "      <td id=\"T_8bbbc_row3_col14\" class=\"data row3 col14\" ><=50K</td>\n",
              "    </tr>\n",
              "    <tr>\n",
              "      <td id=\"T_8bbbc_row4_col0\" class=\"data row4 col0\" >28</td>\n",
              "      <td id=\"T_8bbbc_row4_col1\" class=\"data row4 col1\" >Private</td>\n",
              "      <td id=\"T_8bbbc_row4_col2\" class=\"data row4 col2\" >338409</td>\n",
              "      <td id=\"T_8bbbc_row4_col3\" class=\"data row4 col3\" >Bachelors</td>\n",
              "      <td id=\"T_8bbbc_row4_col4\" class=\"data row4 col4\" >13</td>\n",
              "      <td id=\"T_8bbbc_row4_col5\" class=\"data row4 col5\" >Married-civ-spouse</td>\n",
              "      <td id=\"T_8bbbc_row4_col6\" class=\"data row4 col6\" >Prof-specialty</td>\n",
              "      <td id=\"T_8bbbc_row4_col7\" class=\"data row4 col7\" >Wife</td>\n",
              "      <td id=\"T_8bbbc_row4_col8\" class=\"data row4 col8\" >Black</td>\n",
              "      <td id=\"T_8bbbc_row4_col9\" class=\"data row4 col9\" >Female</td>\n",
              "      <td id=\"T_8bbbc_row4_col10\" class=\"data row4 col10\" >0</td>\n",
              "      <td id=\"T_8bbbc_row4_col11\" class=\"data row4 col11\" >0</td>\n",
              "      <td id=\"T_8bbbc_row4_col12\" class=\"data row4 col12\" >40</td>\n",
              "      <td id=\"T_8bbbc_row4_col13\" class=\"data row4 col13\" >Cuba</td>\n",
              "      <td id=\"T_8bbbc_row4_col14\" class=\"data row4 col14\" ><=50K</td>\n",
              "    </tr>\n",
              "  </tbody>\n",
              "</table>\n"
            ]
          },
          "metadata": {},
          "execution_count": 5
        }
      ]
    },
    {
      "cell_type": "code",
      "source": [
        "df_adult.drop_duplicates(inplace=True)"
      ],
      "metadata": {
        "id": "12RSzy59d759"
      },
      "execution_count": null,
      "outputs": []
    },
    {
      "cell_type": "markdown",
      "source": [
        "###number of row and column\n"
      ],
      "metadata": {
        "id": "LUm6WWQehNS7"
      }
    },
    {
      "cell_type": "code",
      "source": [
        "df_adult.shape"
      ],
      "metadata": {
        "colab": {
          "base_uri": "https://localhost:8080/"
        },
        "id": "MJCtPisfd8Cc",
        "outputId": "4010a0c0-c2fa-46d6-85b5-5d7d48402363"
      },
      "execution_count": null,
      "outputs": [
        {
          "output_type": "execute_result",
          "data": {
            "text/plain": [
              "(48813, 15)"
            ]
          },
          "metadata": {},
          "execution_count": 7
        }
      ]
    },
    {
      "cell_type": "markdown",
      "source": [
        "###Information about data set"
      ],
      "metadata": {
        "id": "vGiHPbI_g4WG"
      }
    },
    {
      "cell_type": "code",
      "source": [
        "df_adult.info()"
      ],
      "metadata": {
        "colab": {
          "base_uri": "https://localhost:8080/"
        },
        "id": "96RFDtiLd8LD",
        "outputId": "095a1b74-19f6-43f3-b97d-04acb6d6522a"
      },
      "execution_count": null,
      "outputs": [
        {
          "output_type": "stream",
          "name": "stdout",
          "text": [
            "<class 'pandas.core.frame.DataFrame'>\n",
            "Index: 48813 entries, 0 to 48841\n",
            "Data columns (total 15 columns):\n",
            " #   Column          Non-Null Count  Dtype \n",
            "---  ------          --------------  ----- \n",
            " 0   age             48813 non-null  int64 \n",
            " 1   workclass       47850 non-null  object\n",
            " 2   fnlwgt          48813 non-null  int64 \n",
            " 3   education       48813 non-null  object\n",
            " 4   education-num   48813 non-null  int64 \n",
            " 5   marital-status  48813 non-null  object\n",
            " 6   occupation      47847 non-null  object\n",
            " 7   relationship    48813 non-null  object\n",
            " 8   race            48813 non-null  object\n",
            " 9   sex             48813 non-null  object\n",
            " 10  capital-gain    48813 non-null  int64 \n",
            " 11  capital-loss    48813 non-null  int64 \n",
            " 12  hours-per-week  48813 non-null  int64 \n",
            " 13  native-country  48539 non-null  object\n",
            " 14  income          48813 non-null  object\n",
            "dtypes: int64(6), object(9)\n",
            "memory usage: 6.0+ MB\n"
          ]
        }
      ]
    },
    {
      "cell_type": "code",
      "source": [
        "df_adult['income'].value_counts()"
      ],
      "metadata": {
        "colab": {
          "base_uri": "https://localhost:8080/",
          "height": 241
        },
        "id": "na0ZmlFUj_3F",
        "outputId": "891f2e2d-6ed1-4053-abb2-e4458eb4d1bf"
      },
      "execution_count": null,
      "outputs": [
        {
          "output_type": "execute_result",
          "data": {
            "text/plain": [
              "income\n",
              "<=50K     24698\n",
              "<=50K.    12430\n",
              ">50K       7839\n",
              ">50K.      3846\n",
              "Name: count, dtype: int64"
            ],
            "text/html": [
              "<div>\n",
              "<style scoped>\n",
              "    .dataframe tbody tr th:only-of-type {\n",
              "        vertical-align: middle;\n",
              "    }\n",
              "\n",
              "    .dataframe tbody tr th {\n",
              "        vertical-align: top;\n",
              "    }\n",
              "\n",
              "    .dataframe thead th {\n",
              "        text-align: right;\n",
              "    }\n",
              "</style>\n",
              "<table border=\"1\" class=\"dataframe\">\n",
              "  <thead>\n",
              "    <tr style=\"text-align: right;\">\n",
              "      <th></th>\n",
              "      <th>count</th>\n",
              "    </tr>\n",
              "    <tr>\n",
              "      <th>income</th>\n",
              "      <th></th>\n",
              "    </tr>\n",
              "  </thead>\n",
              "  <tbody>\n",
              "    <tr>\n",
              "      <th>&lt;=50K</th>\n",
              "      <td>24698</td>\n",
              "    </tr>\n",
              "    <tr>\n",
              "      <th>&lt;=50K.</th>\n",
              "      <td>12430</td>\n",
              "    </tr>\n",
              "    <tr>\n",
              "      <th>&gt;50K</th>\n",
              "      <td>7839</td>\n",
              "    </tr>\n",
              "    <tr>\n",
              "      <th>&gt;50K.</th>\n",
              "      <td>3846</td>\n",
              "    </tr>\n",
              "  </tbody>\n",
              "</table>\n",
              "</div><br><label><b>dtype:</b> int64</label>"
            ]
          },
          "metadata": {},
          "execution_count": 9
        }
      ]
    },
    {
      "cell_type": "markdown",
      "source": [
        "### Cleaning categories from points"
      ],
      "metadata": {
        "id": "u4Z4xkf9koq7"
      }
    },
    {
      "cell_type": "code",
      "source": [
        "df_adult['income'] = df_adult['income'].replace({'<=50K.': '<=50K', '>50K.': '>50K'})"
      ],
      "metadata": {
        "id": "mI8AX_xHklmT"
      },
      "execution_count": null,
      "outputs": []
    },
    {
      "cell_type": "markdown",
      "source": [
        "### Check after cleaning"
      ],
      "metadata": {
        "id": "3rMnC1FRlB3F"
      }
    },
    {
      "cell_type": "code",
      "source": [
        "df_adult['income'].value_counts()"
      ],
      "metadata": {
        "colab": {
          "base_uri": "https://localhost:8080/",
          "height": 178
        },
        "id": "e-jn7vZwlGuA",
        "outputId": "910cfd9a-c75a-49ca-b836-72ce5200fc30"
      },
      "execution_count": null,
      "outputs": [
        {
          "output_type": "execute_result",
          "data": {
            "text/plain": [
              "income\n",
              "<=50K    37128\n",
              ">50K     11685\n",
              "Name: count, dtype: int64"
            ],
            "text/html": [
              "<div>\n",
              "<style scoped>\n",
              "    .dataframe tbody tr th:only-of-type {\n",
              "        vertical-align: middle;\n",
              "    }\n",
              "\n",
              "    .dataframe tbody tr th {\n",
              "        vertical-align: top;\n",
              "    }\n",
              "\n",
              "    .dataframe thead th {\n",
              "        text-align: right;\n",
              "    }\n",
              "</style>\n",
              "<table border=\"1\" class=\"dataframe\">\n",
              "  <thead>\n",
              "    <tr style=\"text-align: right;\">\n",
              "      <th></th>\n",
              "      <th>count</th>\n",
              "    </tr>\n",
              "    <tr>\n",
              "      <th>income</th>\n",
              "      <th></th>\n",
              "    </tr>\n",
              "  </thead>\n",
              "  <tbody>\n",
              "    <tr>\n",
              "      <th>&lt;=50K</th>\n",
              "      <td>37128</td>\n",
              "    </tr>\n",
              "    <tr>\n",
              "      <th>&gt;50K</th>\n",
              "      <td>11685</td>\n",
              "    </tr>\n",
              "  </tbody>\n",
              "</table>\n",
              "</div><br><label><b>dtype:</b> int64</label>"
            ]
          },
          "metadata": {},
          "execution_count": 11
        }
      ]
    },
    {
      "cell_type": "markdown",
      "source": [
        "###Check for missing values"
      ],
      "metadata": {
        "id": "-dc7UsDdhpvy"
      }
    },
    {
      "cell_type": "code",
      "source": [
        "df_adult.isnull().sum()"
      ],
      "metadata": {
        "colab": {
          "base_uri": "https://localhost:8080/",
          "height": 554
        },
        "id": "KruufFtbd8Ut",
        "outputId": "6cf76b54-d854-44ae-f9e1-549ec12f9424"
      },
      "execution_count": null,
      "outputs": [
        {
          "output_type": "execute_result",
          "data": {
            "text/plain": [
              "age                 0\n",
              "workclass         963\n",
              "fnlwgt              0\n",
              "education           0\n",
              "education-num       0\n",
              "marital-status      0\n",
              "occupation        966\n",
              "relationship        0\n",
              "race                0\n",
              "sex                 0\n",
              "capital-gain        0\n",
              "capital-loss        0\n",
              "hours-per-week      0\n",
              "native-country    274\n",
              "income              0\n",
              "dtype: int64"
            ],
            "text/html": [
              "<div>\n",
              "<style scoped>\n",
              "    .dataframe tbody tr th:only-of-type {\n",
              "        vertical-align: middle;\n",
              "    }\n",
              "\n",
              "    .dataframe tbody tr th {\n",
              "        vertical-align: top;\n",
              "    }\n",
              "\n",
              "    .dataframe thead th {\n",
              "        text-align: right;\n",
              "    }\n",
              "</style>\n",
              "<table border=\"1\" class=\"dataframe\">\n",
              "  <thead>\n",
              "    <tr style=\"text-align: right;\">\n",
              "      <th></th>\n",
              "      <th>0</th>\n",
              "    </tr>\n",
              "  </thead>\n",
              "  <tbody>\n",
              "    <tr>\n",
              "      <th>age</th>\n",
              "      <td>0</td>\n",
              "    </tr>\n",
              "    <tr>\n",
              "      <th>workclass</th>\n",
              "      <td>963</td>\n",
              "    </tr>\n",
              "    <tr>\n",
              "      <th>fnlwgt</th>\n",
              "      <td>0</td>\n",
              "    </tr>\n",
              "    <tr>\n",
              "      <th>education</th>\n",
              "      <td>0</td>\n",
              "    </tr>\n",
              "    <tr>\n",
              "      <th>education-num</th>\n",
              "      <td>0</td>\n",
              "    </tr>\n",
              "    <tr>\n",
              "      <th>marital-status</th>\n",
              "      <td>0</td>\n",
              "    </tr>\n",
              "    <tr>\n",
              "      <th>occupation</th>\n",
              "      <td>966</td>\n",
              "    </tr>\n",
              "    <tr>\n",
              "      <th>relationship</th>\n",
              "      <td>0</td>\n",
              "    </tr>\n",
              "    <tr>\n",
              "      <th>race</th>\n",
              "      <td>0</td>\n",
              "    </tr>\n",
              "    <tr>\n",
              "      <th>sex</th>\n",
              "      <td>0</td>\n",
              "    </tr>\n",
              "    <tr>\n",
              "      <th>capital-gain</th>\n",
              "      <td>0</td>\n",
              "    </tr>\n",
              "    <tr>\n",
              "      <th>capital-loss</th>\n",
              "      <td>0</td>\n",
              "    </tr>\n",
              "    <tr>\n",
              "      <th>hours-per-week</th>\n",
              "      <td>0</td>\n",
              "    </tr>\n",
              "    <tr>\n",
              "      <th>native-country</th>\n",
              "      <td>274</td>\n",
              "    </tr>\n",
              "    <tr>\n",
              "      <th>income</th>\n",
              "      <td>0</td>\n",
              "    </tr>\n",
              "  </tbody>\n",
              "</table>\n",
              "</div><br><label><b>dtype:</b> int64</label>"
            ]
          },
          "metadata": {},
          "execution_count": 12
        }
      ]
    },
    {
      "cell_type": "markdown",
      "source": [
        "###Converting the categorical category to numerical variations"
      ],
      "metadata": {
        "id": "ujTX2GCkiO4P"
      }
    },
    {
      "cell_type": "code",
      "source": [
        "data_encoded = pd.get_dummies(df_adult, drop_first=True)"
      ],
      "metadata": {
        "id": "622PscgQd8c8"
      },
      "execution_count": null,
      "outputs": []
    },
    {
      "cell_type": "markdown",
      "source": [
        "###Segmenting data into features and goals."
      ],
      "metadata": {
        "id": "g9cVASOVjUdN"
      }
    },
    {
      "cell_type": "code",
      "source": [
        "x = data_encoded.drop(\"income_>50K\", axis=1)  # Features\n",
        "y = data_encoded[\"income_>50K\"]  # Goals"
      ],
      "metadata": {
        "id": "XjxlaQ4Ug0VQ"
      },
      "execution_count": null,
      "outputs": []
    },
    {
      "cell_type": "markdown",
      "source": [
        "###We split the data into training and test sets."
      ],
      "metadata": {
        "id": "cDrVuznakMS-"
      }
    },
    {
      "cell_type": "code",
      "source": [
        "X_train, X_test, y_train, y_test = train_test_split(x, y, test_size=0.2, random_state=42)"
      ],
      "metadata": {
        "id": "yMg1RI2Wg08P"
      },
      "execution_count": null,
      "outputs": []
    },
    {
      "cell_type": "markdown",
      "source": [
        "### Train Naive Bayas Model"
      ],
      "metadata": {
        "id": "PtKOwGM-i_CH"
      }
    },
    {
      "cell_type": "code",
      "source": [
        "nb_model = GaussianNB()\n",
        "nb_model.fit(X_train, y_train)\n",
        "\n",
        "# predict\n",
        "nb_predictions = nb_model.predict(X_test)\n",
        "\n",
        "# acc calculate\n",
        "nb_accuracy = accuracy_score(y_test, nb_predictions)\n",
        "print(f'Naive Bayes Accuracy : {nb_accuracy:.2f}')\n"
      ],
      "metadata": {
        "colab": {
          "base_uri": "https://localhost:8080/"
        },
        "id": "uCXaZ0Neg1It",
        "outputId": "041de559-9697-4529-cc4c-a09761f5fb0e"
      },
      "execution_count": null,
      "outputs": [
        {
          "output_type": "stream",
          "name": "stdout",
          "text": [
            "Naive Bayes Accuracy : 0.79\n"
          ]
        }
      ]
    },
    {
      "cell_type": "markdown",
      "source": [
        "### Train DecisionTree Model"
      ],
      "metadata": {
        "id": "kVRWjLFwivCR"
      }
    },
    {
      "cell_type": "code",
      "source": [
        "dt_model = DecisionTreeClassifier(random_state=42)\n",
        "dt_model.fit(X_train, y_train)\n",
        "\n",
        "# predict\n",
        "dt_predictions = dt_model.predict(X_test)\n",
        "\n",
        "# acc calculate\n",
        "dt_accuracy = accuracy_score(y_test, dt_predictions)\n",
        "print(f'Decision Tree Accuracy : {dt_accuracy:.2f}')\n"
      ],
      "metadata": {
        "colab": {
          "base_uri": "https://localhost:8080/"
        },
        "id": "Dd85K2v9g1Sh",
        "outputId": "59cf9f12-e85d-475d-ffad-febe7d150fed"
      },
      "execution_count": null,
      "outputs": [
        {
          "output_type": "stream",
          "name": "stdout",
          "text": [
            "Decision Tree Accuracy : 0.81\n"
          ]
        }
      ]
    },
    {
      "cell_type": "code",
      "source": [],
      "metadata": {
        "id": "gLzN4Gwi49i1"
      },
      "execution_count": null,
      "outputs": []
    }
  ]
}